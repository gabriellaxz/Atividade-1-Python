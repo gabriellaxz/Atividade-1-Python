{
 "cells": [
  {
   "cell_type": "code",
   "execution_count": 2,
   "metadata": {},
   "outputs": [],
   "source": [
    "idade1 = 20\n",
    "idade2= 35\n",
    "somaIdades = idade1 + idade2\n",
    "print(somaIdades)"
   ]
  },
  {
   "cell_type": "code",
   "execution_count": 5,
   "metadata": {},
   "outputs": [
    {
     "name": "stdout",
     "output_type": "stream",
     "text": [
      "-15 \n",
      "55 \n",
      "0.5714285714285714\n"
     ]
    }
   ],
   "source": [
    "'''Operações'''\n",
    "\n",
    "subtracao = idade1 - idade2\n",
    "soma = idade1 + idade2\n",
    "divisao = idade1 / idade2\n",
    "print(f\"{subtracao} \\n{soma} \\n{divisao}\")"
   ]
  },
  {
   "cell_type": "code",
   "execution_count": 6,
   "metadata": {},
   "outputs": [
    {
     "data": {
      "text/plain": [
       "400"
      ]
     },
     "execution_count": 6,
     "metadata": {},
     "output_type": "execute_result"
    }
   ],
   "source": [
    "'''Operações multiplas'''\n",
    "\n",
    "2 * (idade1 + idade2)\n",
    "2 * idade1 + 3 * idade2 / 4\n",
    "idade1 ** 2"
   ]
  },
  {
   "cell_type": "code",
   "execution_count": 7,
   "metadata": {},
   "outputs": [
    {
     "name": "stdout",
     "output_type": "stream",
     "text": [
      "15\n"
     ]
    }
   ],
   "source": [
    "resto_divisao = idade2 % idade1\n",
    "print(resto_divisao)\n"
   ]
  },
  {
   "cell_type": "code",
   "execution_count": 9,
   "metadata": {},
   "outputs": [
    {
     "name": "stdout",
     "output_type": "stream",
     "text": [
      "Maria Gabriella\n"
     ]
    }
   ],
   "source": [
    "nome = \"Maria\"\n",
    "sobrenome = \"Gabriella\"\n",
    "print(nome +' ' + sobrenome)"
   ]
  },
  {
   "cell_type": "code",
   "execution_count": 10,
   "metadata": {},
   "outputs": [
    {
     "name": "stdout",
     "output_type": "stream",
     "text": [
      "Olá Maria, você tem 20 anos\n"
     ]
    }
   ],
   "source": [
    "'''Concatenção'''\n",
    "print(f\"Olá {nome}, você tem {idade1} anos\")"
   ]
  },
  {
   "cell_type": "code",
   "execution_count": null,
   "metadata": {},
   "outputs": [],
   "source": [
    "nome = input(\"Digite seu nome\")\n",
    "idade_pessoa = int(input(\"Digite sua idade: \"))\n",
    "print(f\"{nome} tem {idade_pessoa} anos\")"
   ]
  }
 ],
 "metadata": {
  "kernelspec": {
   "display_name": "Python 3",
   "language": "python",
   "name": "python3"
  },
  "language_info": {
   "codemirror_mode": {
    "name": "ipython",
    "version": 3
   },
   "file_extension": ".py",
   "mimetype": "text/x-python",
   "name": "python",
   "nbconvert_exporter": "python",
   "pygments_lexer": "ipython3",
   "version": "3.12.3"
  }
 },
 "nbformat": 4,
 "nbformat_minor": 2
}
